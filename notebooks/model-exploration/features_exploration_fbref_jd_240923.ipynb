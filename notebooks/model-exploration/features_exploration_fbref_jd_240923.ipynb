{
 "cells": [
  {
   "cell_type": "code",
   "execution_count": null,
   "metadata": {},
   "outputs": [],
   "source": [
    "import os\n",
    "\n",
    "import pandas as pd\n",
    "import numpy as np\n",
    "from dotenv import load_dotenv\n",
    "\n",
    "from psycopg2 import sql, connect\n",
    "from sqlalchemy import create_engine, text\n",
    "\n",
    "from sklearn.pipeline import Pipeline\n",
    "from sklearn.preprocessing import StandardScaler\n",
    "from sklearn.linear_model import LogisticRegression\n",
    "\n",
    "from train_test.general import train_test_bookies_comparison, display_train_test_bookies_comparison, train_test\n",
    "from train_test.split import train_test_split_expanding_windows, train_test_split_sliding_windows\n",
    "from feature_eng.odds import bookie_prediction, prob_by_bookies\n",
    "from train_test.metrics import accuracy_fn, classwise_ECE_fn, f_mesure_fn, log_loss_fn, mse_loss_fn, precision_fn, recall_fn\n",
    "from feature_eng.team_stats import goal_stats, elo_scores, glicko2_scores, trueskill_scores\n"
   ]
  },
  {
   "cell_type": "code",
   "execution_count": null,
   "metadata": {},
   "outputs": [],
   "source": [
    "load_dotenv(\".env\")\n",
    "load_dotenv(\"secrets.env\")\n",
    "DB_USER = os.getenv(\"DB_USER\")\n",
    "DB_PASSWORD = os.getenv('DB_PASSWORD')\n",
    "DB_HOST = os.getenv('DB_HOST')\n",
    "DB_PORT = os.getenv('DB_PORT')\n",
    "DB_NAME = os.getenv('DB_NAME')\n",
    "\n",
    "DB_TN_MATCHES_EURO = os.getenv('DB_TN_MATCHES_EURO')\n",
    "DB_TN_MATCHES = os.getenv('DB_TN_MATCHES')\n",
    "DB_TN_MATCHES_BIG5 = os.getenv('DB_TN_MATCHES_BIG5')\n",
    "DB_TN_MATCHES_WC = os.getenv('DB_TN_MATCHES_WC')\n",
    "DB_TN_MATCHES_FBREF = os.getenv('DB_TN_MATCHES_FBREF')"
   ]
  }
 ],
 "metadata": {
  "language_info": {
   "name": "python"
  }
 },
 "nbformat": 4,
 "nbformat_minor": 2
}
