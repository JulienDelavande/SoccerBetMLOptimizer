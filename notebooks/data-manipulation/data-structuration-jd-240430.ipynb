{
 "cells": [
  {
   "cell_type": "markdown",
   "metadata": {},
   "source": [
    "# Data structuration\n",
    "\n",
    "This script aims to structure/ renames the storage of the data in a more readable way."
   ]
  },
  {
   "cell_type": "code",
   "execution_count": 1,
   "metadata": {},
   "outputs": [],
   "source": [
    "import os"
   ]
  },
  {
   "cell_type": "code",
   "execution_count": 4,
   "metadata": {},
   "outputs": [],
   "source": [
    "DATA_FOLDER = \"./../../data/soccer/football-data.co.uk/France\""
   ]
  },
  {
   "cell_type": "code",
   "execution_count": 7,
   "metadata": {},
   "outputs": [],
   "source": [
    "# rename all files by order of download\n",
    "\n",
    "files = os.listdir(DATA_FOLDER)\n",
    "files.sort(key=lambda x: os.path.getmtime(DATA_FOLDER + \"/\" + x))\n",
    "year_1 = 15\n",
    "year_2 = 16\n",
    "for files in files:\n",
    "    if \"F1\" in files:\n",
    "        os.rename(DATA_FOLDER + \"/\" + files, DATA_FOLDER + \"/\" + f\"Ligue1-{year_1}-{year_2}.csv\")\n",
    "        year_1 -= 1\n",
    "        year_2 -= 1"
   ]
  },
  {
   "cell_type": "code",
   "execution_count": 15,
   "metadata": {},
   "outputs": [
    {
     "name": "stdout",
     "output_type": "stream",
     "text": [
      "Ligue1-0-1.csv\n",
      "Ligue1-1-2.csv\n",
      "Ligue1-10-11.csv\n",
      "Ligue1-11-12.csv\n",
      "Ligue1-12-13.csv\n",
      "Ligue1-13-14.csv\n",
      "Ligue1-14-15.csv\n",
      "Ligue1-15-16.csv\n",
      "Ligue1-16-17.csv\n",
      "Ligue1-17-18.csv\n",
      "Ligue1-18-19.csv\n",
      "Ligue1-19-20.csv\n",
      "Ligue1-2-3.csv\n",
      "Ligue1-20-21.csv\n",
      "Ligue1-21-22.csv\n",
      "Ligue1-22-23.csv\n",
      "Ligue1-23-24.csv\n",
      "Ligue1-3-4.csv\n",
      "Ligue1-4-5.csv\n",
      "Ligue1-5-6.csv\n",
      "Ligue1-6-7.csv\n",
      "Ligue1-7-8.csv\n",
      "Ligue1-8-9.csv\n",
      "Ligue1-9-10.csv\n"
     ]
    }
   ],
   "source": [
    "files = os.listdir(DATA_FOLDER)\n",
    "for file in files:\n",
    "    print(file)\n",
    "    year_1 = file.split(\"-\")[1].split(\"-\")[0]\n",
    "    year_2 = file.split(\"-\")[2].split(\".\")[0]\n",
    "    year_1 = int(year_1) + 2000\n",
    "    year_2 = int(year_2) + 2000\n",
    "    new_name = f\"Ligue1-{year_1}-{year_2}.csv\"\n",
    "    os.rename(DATA_FOLDER + \"/\" + file, DATA_FOLDER + \"/\" + new_name)"
   ]
  },
  {
   "cell_type": "code",
   "execution_count": 16,
   "metadata": {},
   "outputs": [
    {
     "name": "stdout",
     "output_type": "stream",
     "text": [
      "Ligue1-2000-2001.csv\n",
      "Ligue1-2001-2002.csv\n",
      "Ligue1-2002-2003.csv\n",
      "Ligue1-2003-2004.csv\n",
      "Ligue1-2004-2005.csv\n",
      "Ligue1-2005-2006.csv\n",
      "Ligue1-2006-2007.csv\n",
      "Ligue1-2007-2008.csv\n",
      "Ligue1-2008-2009.csv\n",
      "Ligue1-2009-2010.csv\n",
      "Ligue1-2010-2011.csv\n",
      "Ligue1-2011-2012.csv\n",
      "Ligue1-2012-2013.csv\n",
      "Ligue1-2013-2014.csv\n",
      "Ligue1-2014-2015.csv\n",
      "Ligue1-2015-2016.csv\n",
      "Ligue1-2016-2017.csv\n",
      "Ligue1-2017-2018.csv\n",
      "Ligue1-2018-2019.csv\n",
      "Ligue1-2019-2020.csv\n",
      "Ligue1-2020-2021.csv\n",
      "Ligue1-2021-2022.csv\n",
      "Ligue1-2022-2023.csv\n",
      "Ligue1-2023-2024.csv\n"
     ]
    }
   ],
   "source": [
    "for file in os.listdir(DATA_FOLDER):\n",
    "    print(file)\n",
    "    new_name = file.replace(\"Ligue1\", \"F1\")\n",
    "    os.rename(DATA_FOLDER + \"/\" + file, DATA_FOLDER + \"/\" + new_name)\n",
    "    "
   ]
  },
  {
   "cell_type": "code",
   "execution_count": 37,
   "metadata": {},
   "outputs": [],
   "source": [
    "DATA_FOLDER = \"./../../data/soccer/football-data.co.uk/vrac\""
   ]
  },
  {
   "cell_type": "code",
   "execution_count": 44,
   "metadata": {},
   "outputs": [
    {
     "name": "stdout",
     "output_type": "stream",
     "text": [
      "file: new-ARG.csv, ligue: Argentina, year: 2013\n",
      "file: new-AUT.csv, ligue: Austria, year: 2013\n",
      "file: new-BRA.csv, ligue: Brazil, year: 2012\n",
      "file: new-CHN.csv, ligue: China, year: 2014\n",
      "file: new-DNK.csv, ligue: Denmark, year: 2013\n",
      "file: new-FIN.csv, ligue: Finland, year: 2012\n",
      "file: new-IRL.csv, ligue: Ireland, year: 2012\n",
      "file: new-JPN.csv, ligue: Japan, year: 2012\n",
      "file: new-MEX.csv, ligue: Mexico, year: 2013\n",
      "file: new-NOR.csv, ligue: Norway, year: 2012\n",
      "file: new-POL.csv, ligue: Poland, year: 2013\n",
      "file: new-ROU.csv, ligue: Romania, year: 2013\n",
      "file: new-RUS.csv, ligue: Russia, year: 2013\n",
      "file: new-SWE.csv, ligue: Sweden, year: 2012\n",
      "file: new-SWZ.csv, ligue: Switzerland, year: 2013\n",
      "file: new-USA.csv, ligue: USA, year: 2012\n"
     ]
    }
   ],
   "source": [
    "files = os.listdir(DATA_FOLDER)\n",
    "\n",
    "for file in files:\n",
    "    with open(DATA_FOLDER + f\"/{file}\" , \"r\") as f:\n",
    "        f.readline()\n",
    "        ligue = f.readline().split(\",\")[0]\n",
    "        if file.split(\"-\")[0] == \"new\":\n",
    "            date = f.readline().split(\",\")[2].split(\" \")[0]\n",
    "        else:\n",
    "            date = f.readline().split(\",\")[1].split(\" \")[0]\n",
    "        year_small = date.split(\"/\")[-1]\n",
    "        print(f\"file: {file}, ligue: {ligue}, year: {year_small}\")\n",
    "        if int(year_small) > 1900:\n",
    "            year = int(year_small)\n",
    "        else:\n",
    "            if int(year_small) > 50:\n",
    "                year = int(year_small) + 1900\n",
    "            else:\n",
    "                year = int(year_small) + 2000\n",
    "        new_name = f\"{ligue}-{year}-{year+1}.csv\"\n",
    "        country = ligue[:-1]\n",
    "        if not os.path.exists(DATA_FOLDER + f\"/../{country}\"):\n",
    "            os.mkdir(DATA_FOLDER + f\"/../{country}\")\n",
    "    if not os.path.exists(DATA_FOLDER + f\"/../{country}/{new_name}\"):\n",
    "        os.rename(DATA_FOLDER + f\"/{file}\", DATA_FOLDER + f\"/../{country}/{new_name}\")\n",
    "    else:\n",
    "        os.remove(DATA_FOLDER + f\"/{file}\")\n"
   ]
  },
  {
   "cell_type": "code",
   "execution_count": null,
   "metadata": {},
   "outputs": [],
   "source": []
  }
 ],
 "metadata": {
  "kernelspec": {
   "display_name": "venv",
   "language": "python",
   "name": "python3"
  },
  "language_info": {
   "codemirror_mode": {
    "name": "ipython",
    "version": 3
   },
   "file_extension": ".py",
   "mimetype": "text/x-python",
   "name": "python",
   "nbconvert_exporter": "python",
   "pygments_lexer": "ipython3",
   "version": "3.10.11"
  }
 },
 "nbformat": 4,
 "nbformat_minor": 2
}
