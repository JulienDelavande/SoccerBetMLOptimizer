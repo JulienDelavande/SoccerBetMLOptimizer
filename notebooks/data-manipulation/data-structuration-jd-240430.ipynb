{
 "cells": [
  {
   "cell_type": "markdown",
   "metadata": {},
   "source": [
    "# Data structuration\n",
    "\n",
    "This script aims to structure/ renames the storage of the data in a more readable way."
   ]
  },
  {
   "cell_type": "code",
   "execution_count": 1,
   "metadata": {},
   "outputs": [],
   "source": [
    "import os"
   ]
  },
  {
   "cell_type": "markdown",
   "metadata": {},
   "source": [
    "## Football-data.co.uk"
   ]
  },
  {
   "cell_type": "code",
   "execution_count": 37,
   "metadata": {},
   "outputs": [],
   "source": [
    "DATA_FOLDER = \"./../../data/soccer/football-data.co.uk/vrac\""
   ]
  },
  {
   "cell_type": "code",
   "execution_count": 44,
   "metadata": {},
   "outputs": [
    {
     "name": "stdout",
     "output_type": "stream",
     "text": [
      "file: new-ARG.csv, ligue: Argentina, year: 2013\n",
      "file: new-AUT.csv, ligue: Austria, year: 2013\n",
      "file: new-BRA.csv, ligue: Brazil, year: 2012\n",
      "file: new-CHN.csv, ligue: China, year: 2014\n",
      "file: new-DNK.csv, ligue: Denmark, year: 2013\n",
      "file: new-FIN.csv, ligue: Finland, year: 2012\n",
      "file: new-IRL.csv, ligue: Ireland, year: 2012\n",
      "file: new-JPN.csv, ligue: Japan, year: 2012\n",
      "file: new-MEX.csv, ligue: Mexico, year: 2013\n",
      "file: new-NOR.csv, ligue: Norway, year: 2012\n",
      "file: new-POL.csv, ligue: Poland, year: 2013\n",
      "file: new-ROU.csv, ligue: Romania, year: 2013\n",
      "file: new-RUS.csv, ligue: Russia, year: 2013\n",
      "file: new-SWE.csv, ligue: Sweden, year: 2012\n",
      "file: new-SWZ.csv, ligue: Switzerland, year: 2013\n",
      "file: new-USA.csv, ligue: USA, year: 2012\n"
     ]
    }
   ],
   "source": [
    "\n",
    "def rename_and_sort_files_football_data_co_uk():\n",
    "    \"\"\"\n",
    "    This function renames and sorts the files that have been dowloaded from football-data.co.uk website from the vrac folder.\n",
    "    \"\"\"\n",
    "    files = os.listdir(DATA_FOLDER)\n",
    "\n",
    "    for file in files:\n",
    "        with open(DATA_FOLDER + f\"/{file}\" , \"r\") as f:\n",
    "            f.readline()\n",
    "            ligue = f.readline().split(\",\")[0]\n",
    "            if file.split(\"-\")[0] == \"new\":\n",
    "                date = f.readline().split(\",\")[2].split(\" \")[0]\n",
    "            else:\n",
    "                date = f.readline().split(\",\")[1].split(\" \")[0]\n",
    "            year_small = date.split(\"/\")[-1]\n",
    "            if int(year_small) > 1900:\n",
    "                year = int(year_small)\n",
    "            else:\n",
    "                if int(year_small) > 50:\n",
    "                    year = int(year_small) + 1900\n",
    "                else:\n",
    "                    year = int(year_small) + 2000\n",
    "            new_name = f\"{ligue}-{year}-{year+1}.csv\"\n",
    "            country = ligue[:-1]\n",
    "            if not os.path.exists(DATA_FOLDER + f\"/../{country}\"):\n",
    "                os.mkdir(DATA_FOLDER + f\"/../{country}\")\n",
    "        if not os.path.exists(DATA_FOLDER + f\"/../{country}/{new_name}\"):\n",
    "            os.rename(DATA_FOLDER + f\"/{file}\", DATA_FOLDER + f\"/../{country}/{new_name}\")\n",
    "        else:\n",
    "            os.remove(DATA_FOLDER + f\"/{file}\")\n"
   ]
  },
  {
   "cell_type": "code",
   "execution_count": null,
   "metadata": {},
   "outputs": [],
   "source": []
  }
 ],
 "metadata": {
  "kernelspec": {
   "display_name": "venv",
   "language": "python",
   "name": "python3"
  },
  "language_info": {
   "codemirror_mode": {
    "name": "ipython",
    "version": 3
   },
   "file_extension": ".py",
   "mimetype": "text/x-python",
   "name": "python",
   "nbconvert_exporter": "python",
   "pygments_lexer": "ipython3",
   "version": "3.10.11"
  }
 },
 "nbformat": 4,
 "nbformat_minor": 2
}
