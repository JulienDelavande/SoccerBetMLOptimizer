{
 "cells": [
  {
   "cell_type": "markdown",
   "metadata": {},
   "source": [
    "# Data exploration of the football-data.co.uk dataset"
   ]
  },
  {
   "cell_type": "code",
   "execution_count": 1,
   "metadata": {},
   "outputs": [],
   "source": [
    "import pandas as pd\n",
    "import numpy as np\n",
    "import matplotlib.pyplot as plt\n",
    "import os\n",
    "import seaborn as sns"
   ]
  },
  {
   "cell_type": "code",
   "execution_count": 2,
   "metadata": {},
   "outputs": [],
   "source": [
    "pd.set_option('display.max_columns', None)\n",
    "pd.set_option('display.max_rows', None)"
   ]
  },
  {
   "cell_type": "markdown",
   "metadata": {},
   "source": [
    "## France Ligue 1"
   ]
  },
  {
   "cell_type": "code",
   "execution_count": 3,
   "metadata": {},
   "outputs": [],
   "source": [
    "DATA_FOLDER = \"./../../data/soccer/football-data.co.uk\"\n",
    "FOLDER_NAME_FRANCE = \"F\"\n",
    "LIGUE_1 = \"F1\""
   ]
  },
  {
   "cell_type": "code",
   "execution_count": 4,
   "metadata": {},
   "outputs": [
    {
     "data": {
      "text/plain": [
       "['F2-2023-2024.csv',\n",
       " 'F2-2022-2023.csv',\n",
       " 'F2-2021-2022.csv',\n",
       " 'F2-2020-2021.csv',\n",
       " 'F2-2019-2020.csv',\n",
       " 'F2-2018-2019.csv',\n",
       " 'F2-2017-2018.csv',\n",
       " 'F2-2016-2017.csv',\n",
       " 'F2-2015-2016.csv',\n",
       " 'F2-2014-2015.csv',\n",
       " 'F2-2013-2014.csv',\n",
       " 'F2-2012-2013.csv',\n",
       " 'F2-2011-2012.csv',\n",
       " 'F2-2010-2011.csv',\n",
       " 'F2-2009-2010.csv',\n",
       " 'F2-2008-2009.csv',\n",
       " 'F2-2007-2008.csv',\n",
       " 'F2-2006-2007.csv',\n",
       " 'F2-2005-2006.csv',\n",
       " 'F2-2004-2005.csv',\n",
       " 'F2-2003-2004.csv',\n",
       " 'F2-2002-2003.csv',\n",
       " 'F2-2001-2002.csv',\n",
       " 'F2-2000-2001.csv',\n",
       " 'F2-1999-2000.csv',\n",
       " 'F2-1998-1999.csv',\n",
       " 'F2-1997-1998.csv',\n",
       " 'F2-1996-1997.csv',\n",
       " 'F1-2023-2024.csv',\n",
       " 'F1-2022-2023.csv',\n",
       " 'F1-2021-2022.csv',\n",
       " 'F1-2020-2021.csv',\n",
       " 'F1-2019-2020.csv',\n",
       " 'F1-2018-2019.csv',\n",
       " 'F1-2017-2018.csv',\n",
       " 'F1-2016-2017.csv',\n",
       " 'F1-2015-2016.csv',\n",
       " 'F1-2014-2015.csv',\n",
       " 'F1-2013-2014.csv',\n",
       " 'F1-2012-2013.csv',\n",
       " 'F1-2011-2012.csv',\n",
       " 'F1-2010-2011.csv',\n",
       " 'F1-2009-2010.csv',\n",
       " 'F1-2008-2009.csv',\n",
       " 'F1-2007-2008.csv',\n",
       " 'F1-2006-2007.csv',\n",
       " 'F1-2005-2006.csv',\n",
       " 'F1-2004-2005.csv',\n",
       " 'F1-2003-2004.csv',\n",
       " 'F1-2002-2003.csv',\n",
       " 'F1-2001-2002.csv',\n",
       " 'F1-2000-2001.csv',\n",
       " 'F1-1999-2000.csv',\n",
       " 'F1-1998-1999.csv',\n",
       " 'F1-1997-1998.csv',\n",
       " 'F1-1996-1997.csv',\n",
       " 'F1-1995-1996.csv',\n",
       " 'F1-1994-1995.csv',\n",
       " 'F1-1993-1994.csv']"
      ]
     },
     "execution_count": 4,
     "metadata": {},
     "output_type": "execute_result"
    }
   ],
   "source": [
    "files = os.listdir(f\"{DATA_FOLDER}/{FOLDER_NAME_FRANCE}\")\n",
    "files.sort(reverse=True)\n",
    "files"
   ]
  },
  {
   "cell_type": "code",
   "execution_count": 5,
   "metadata": {},
   "outputs": [
    {
     "name": "stdout",
     "output_type": "stream",
     "text": [
      "F1-2023-2024.csv\n",
      "F1-2022-2023.csv\n",
      "F1-2021-2022.csv\n",
      "F1-2020-2021.csv\n",
      "F1-2019-2020.csv\n",
      "F1-2018-2019.csv\n",
      "F1-2017-2018.csv\n",
      "F1-2016-2017.csv\n",
      "F1-2015-2016.csv\n",
      "F1-2014-2015.csv\n",
      "F1-2013-2014.csv\n",
      "F1-2012-2013.csv\n",
      "F1-2011-2012.csv\n",
      "F1-2010-2011.csv\n",
      "F1-2009-2010.csv\n",
      "F1-2008-2009.csv\n",
      "F1-2007-2008.csv\n",
      "F1-2006-2007.csv\n",
      "F1-2005-2006.csv\n",
      "F1-2004-2005.csv\n",
      "F1-2003-2004.csv\n",
      "F1-2002-2003.csv\n",
      "F1-2001-2002.csv\n",
      "F1-2000-2001.csv\n",
      "F1-1999-2000.csv\n",
      "F1-1998-1999.csv\n",
      "F1-1997-1998.csv\n",
      "F1-1996-1997.csv\n",
      "F1-1995-1996.csv\n",
      "F1-1994-1995.csv\n",
      "F1-1993-1994.csv\n"
     ]
    }
   ],
   "source": [
    "# agregate all seasons\n",
    "df_france_ligue_1 = pd.DataFrame()\n",
    "files = os.listdir(f\"{DATA_FOLDER}/{FOLDER_NAME_FRANCE}\")\n",
    "files.sort(reverse=True)\n",
    "for file in files:\n",
    "    if file.startswith(LIGUE_1):\n",
    "        print(file)\n",
    "        df = pd.read_csv(f\"{DATA_FOLDER}/{FOLDER_NAME_FRANCE}/{file}\")\n",
    "        df_france_ligue_1 = pd.concat([df_france_ligue_1, df], join='outer')\n",
    "\n",
    "df_france_ligue_1"
   ]
  },
  {
   "cell_type": "code",
   "execution_count": null,
   "metadata": {},
   "outputs": [],
   "source": [
    "df_france_ligue_1.head(10)"
   ]
  },
  {
   "cell_type": "code",
   "execution_count": null,
   "metadata": {},
   "outputs": [],
   "source": [
    "df_france_ligue_1.describe()"
   ]
  },
  {
   "cell_type": "code",
   "execution_count": null,
   "metadata": {},
   "outputs": [],
   "source": [
    "df_france_ligue_1.info()"
   ]
  },
  {
   "cell_type": "code",
   "execution_count": null,
   "metadata": {},
   "outputs": [],
   "source": [
    "print(df_france_ligue_1.isnull().sum())"
   ]
  },
  {
   "cell_type": "code",
   "execution_count": null,
   "metadata": {},
   "outputs": [],
   "source": [
    "# remove unamed columns\n",
    "df_france_ligue_1 = df_france_ligue_1.loc[:, ~df_france_ligue_1.columns.str.contains('^Unnamed')]"
   ]
  },
  {
   "cell_type": "code",
   "execution_count": null,
   "metadata": {},
   "outputs": [],
   "source": [
    "df_france_ligue_1.head(20)"
   ]
  },
  {
   "cell_type": "code",
   "execution_count": null,
   "metadata": {},
   "outputs": [],
   "source": [
    "# Ensure that the date column is in datetime format\n",
    "df_france_ligue_1['Date'] = pd.to_datetime(df_france_ligue_1['Date'], format='mixed')\n",
    "\n",
    "# Extract year from date\n",
    "df_france_ligue_1['year'] = df_france_ligue_1['Date'].dt.year\n",
    "\n",
    "# Group by year and count non-null values for each column\n",
    "df_count = df_france_ligue_1.groupby('year').count()\n"
   ]
  },
  {
   "cell_type": "code",
   "execution_count": null,
   "metadata": {},
   "outputs": [],
   "source": [
    "\n",
    "df_count_transposed = df_count.transpose()\n",
    "# Plot\n",
    "\n",
    "df_count_transposed.plot(kind='bar', stacked=True, figsize=(30, 10))\n",
    "plt.title('Number of non-null values per column and year')\n",
    "plt.xlabel('Column')\n",
    "plt.ylabel('Count')\n",
    "plt.show()"
   ]
  },
  {
   "cell_type": "code",
   "execution_count": null,
   "metadata": {},
   "outputs": [],
   "source": [
    "# Create a DataFrame indicating where values are null\n",
    "df_null = df_france_ligue_1.isnull()\n",
    "\n",
    "# Add year column to this DataFrame\n",
    "df_null['year'] = df_france_ligue_1['Date'].dt.year\n",
    "\n",
    "# Group by year and sum to get number of null values per year and column\n",
    "df_null_count = df_null.groupby('year').sum()"
   ]
  },
  {
   "cell_type": "code",
   "execution_count": null,
   "metadata": {},
   "outputs": [],
   "source": [
    "df_count_transposed = df_null_count.transpose()\n",
    "# Plot\n",
    "\n",
    "df_count_transposed.plot(kind='bar', stacked=True, figsize=(30, 10))\n",
    "plt.title('Number of non-null values per column and year')\n",
    "plt.xlabel('Column')\n",
    "plt.ylabel('Count')\n",
    "plt.show()"
   ]
  },
  {
   "cell_type": "code",
   "execution_count": null,
   "metadata": {},
   "outputs": [],
   "source": [
    "col_name = list(df_france_ligue_1.columns)\n",
    "'FTR' in col_name"
   ]
  },
  {
   "cell_type": "code",
   "execution_count": null,
   "metadata": {},
   "outputs": [],
   "source": [
    "df_france_ligue_1_null_mat = df_france_ligue_1.groupby('year').apply(lambda x: ((x.isnull().sum())/len(x))*100).astype(int)\n",
    "df_france_ligue_1_null_mat"
   ]
  },
  {
   "cell_type": "code",
   "execution_count": null,
   "metadata": {},
   "outputs": [],
   "source": [
    "plt.imshow(df_france_ligue_1_null_mat)"
   ]
  },
  {
   "cell_type": "code",
   "execution_count": null,
   "metadata": {},
   "outputs": [],
   "source": [
    "# Create a heatmap\n",
    "plt.figure(figsize=(10, 6))\n",
    "sns.heatmap(df_france_ligue_1_null_mat, cmap='Blues', cbar=True)\n",
    "\n",
    "plt.title('Percentage of missing values per year and column')\n",
    "plt.xlabel('Column')\n",
    "plt.ylabel('Year')\n",
    "plt.show()"
   ]
  },
  {
   "cell_type": "markdown",
   "metadata": {},
   "source": [
    "### 2006-2024 seasons L1 France"
   ]
  },
  {
   "cell_type": "code",
   "execution_count": null,
   "metadata": {},
   "outputs": [],
   "source": [
    "df_france_ligue_1_2006_2024 = df_france_ligue_1[(df_france_ligue_1['year'] >= 2006) & (df_france_ligue_1['year'] <= 2024)]"
   ]
  },
  {
   "cell_type": "code",
   "execution_count": null,
   "metadata": {},
   "outputs": [],
   "source": [
    "df_france_ligue_1_2006_2024.head(10)"
   ]
  },
  {
   "cell_type": "code",
   "execution_count": null,
   "metadata": {},
   "outputs": [],
   "source": [
    "#remove columns with more than 5% of missing values\n",
    "\n",
    "df_france_ligue_1_2006_2024 = df_france_ligue_1_2006_2024.loc[:, df_france_ligue_1_2006_2024.isnull().mean() < .05]\n"
   ]
  },
  {
   "cell_type": "code",
   "execution_count": null,
   "metadata": {},
   "outputs": [],
   "source": [
    "df_france_ligue_1_2006_2024.info()"
   ]
  },
  {
   "cell_type": "code",
   "execution_count": null,
   "metadata": {},
   "outputs": [],
   "source": [
    "df_france_ligue_1_2006_2024.head(5)"
   ]
  },
  {
   "cell_type": "code",
   "execution_count": null,
   "metadata": {},
   "outputs": [],
   "source": [
    "df_france_ligue_1_2006_2024.tail(5)"
   ]
  },
  {
   "cell_type": "code",
   "execution_count": null,
   "metadata": {},
   "outputs": [],
   "source": [
    "# number of nulls per column per years\n",
    "df_france_ligue_1_2006_2024.groupby('year').apply(lambda x: x.isnull().sum())\n"
   ]
  },
  {
   "cell_type": "code",
   "execution_count": null,
   "metadata": {},
   "outputs": [],
   "source": [
    "# Add neww colum to say if bet365 win the prediction or not (1 if yes, 0 if no)\n",
    "# if FTR == H and bet365 == H or FTR == A and bet365 == A or FTR == D and bet365 == D then bet365_win = 1 else 0\n",
    "\n",
    "df_france_ligue_1_2006_2024['bet365_win'] = np.where(((df_france_ligue_1_2006_2024['FTR'] == 'H') & (df_france_ligue_1_2006_2024['B365H'] > df_france_ligue_1_2006_2024['B365D']) & (df_france_ligue_1_2006_2024['B365H'] > df_france_ligue_1_2006_2024['B365A'])) | ((df_france_ligue_1_2006_2024['FTR'] == 'A') & (df_france_ligue_1_2006_2024['B365A'] > df_france_ligue_1_2006_2024['B365D']) & (df_france_ligue_1_2006_2024['B365A'] > df_france_ligue_1_2006_2024['B365H'])) | ((df_france_ligue_1_2006_2024['FTR'] == 'D') & (df_france_ligue_1_2006_2024['B365D'] > df_france_ligue_1_2006_2024['B365H']) & (df_france_ligue_1_2006_2024['B365D'] > df_france_ligue_1_2006_2024['B365A'])), 1, 0)\n"
   ]
  },
  {
   "cell_type": "code",
   "execution_count": null,
   "metadata": {},
   "outputs": [],
   "source": [
    "print(list(df_france_ligue_1_2006_2024.columns))"
   ]
  },
  {
   "cell_type": "code",
   "execution_count": null,
   "metadata": {},
   "outputs": [],
   "source": [
    "def calculate_win(row, bookmaker=\"B365\", result_by_outcome=False):\n",
    "    \n",
    "    result = row[\"FTR\"]\n",
    "    home_odd = 1/float(row[f\"{bookmaker}H\"])\n",
    "    away_odd = 1/float(row[f\"{bookmaker}A\"])\n",
    "    draw_odd = 1/float(row[f\"{bookmaker}D\"])\n",
    "\n",
    "    result_HDA = [0, 0, 0]\n",
    "\n",
    "    if result == \"H\" and home_odd > away_odd and home_odd > draw_odd:\n",
    "        result_HDA[0] = 1\n",
    "    if result == \"D\" and draw_odd > away_odd and draw_odd > home_odd:\n",
    "        result_HDA[1] = 1\n",
    "    if result == \"A\" and away_odd > home_odd and away_odd > draw_odd:\n",
    "        result_HDA[2] = 1\n",
    "\n",
    "    if result_by_outcome:\n",
    "        return result_HDA\n",
    "    return sum(result_HDA)"
   ]
  },
  {
   "cell_type": "code",
   "execution_count": null,
   "metadata": {},
   "outputs": [],
   "source": [
    "df_france_ligue_1_2006_2024['MEANH'] = df_france_ligue_1_2006_2024.apply(lambda x : (x['B365H'] + x['BWH'] + x['IWH'] + x['WHH'] + x['VCH'])/5, axis=1)\n",
    "df_france_ligue_1_2006_2024['MEAND'] = df_france_ligue_1_2006_2024.apply(lambda x : (x['B365D'] + x['BWD'] + x['IWD'] + x['WHD'] + x['VCD'])/5, axis=1)\n",
    "df_france_ligue_1_2006_2024['MEANA'] = df_france_ligue_1_2006_2024.apply(lambda x : (x['B365A'] + x['BWA'] + x['IWA'] + x['WHA'] + x['VCA'])/5, axis=1)"
   ]
  },
  {
   "cell_type": "code",
   "execution_count": null,
   "metadata": {},
   "outputs": [],
   "source": [
    "bookmakers = ['B365', 'BW', 'IW', 'WH', 'VC', 'MEAN']\n",
    "accuracy_overall = []\n",
    "for bookmaker in bookmakers:\n",
    "    df_france_ligue_1_2006_2024[f'{bookmaker}_win'] = df_france_ligue_1_2006_2024.apply(calculate_win, axis=1, args=(bookmaker,))\n",
    "    accuracy = df_france_ligue_1_2006_2024[f'{bookmaker}_win'].sum()/len(df_france_ligue_1_2006_2024[f'{bookmaker}_win'])\n",
    "    print(f'{bookmaker} accuracy: {accuracy}')\n",
    "    accuracy_overall.append(accuracy)"
   ]
  },
  {
   "cell_type": "code",
   "execution_count": null,
   "metadata": {},
   "outputs": [],
   "source": [
    "fig, ax = plt.subplots(figsize=(10, 6))\n",
    "ax.bar(bookmakers, accuracy_overall)\n",
    "ax.set_ylabel('Accuracy')\n",
    "ax.set_title('Accuracy of bookmakers')\n",
    "plt.show()"
   ]
  },
  {
   "cell_type": "code",
   "execution_count": null,
   "metadata": {},
   "outputs": [],
   "source": [
    "accuracy_home = []\n",
    "accuracy_draw = []\n",
    "accuracy_away = []\n",
    "\n",
    "print('unbalanced accuracy')\n",
    "for bookmaker in bookmakers:\n",
    "    df_france_ligue_1_2006_2024[f'{bookmaker}_home_win'], df_france_ligue_1_2006_2024[f'{bookmaker}_draw'], df_france_ligue_1_2006_2024[f'{bookmaker}_away_win'] = zip(*df_france_ligue_1_2006_2024.apply(calculate_win, axis=1, args=(bookmaker, True)))\n",
    "    accuracy_home_ = df_france_ligue_1_2006_2024[f'{bookmaker}_home_win'].sum()/len(df_france_ligue_1_2006_2024[f'{bookmaker}_home_win'])\n",
    "    accuracy_home.append(accuracy_home_)\n",
    "    accuracy_draw_ = df_france_ligue_1_2006_2024[f'{bookmaker}_draw'].sum()/len(df_france_ligue_1_2006_2024[f'{bookmaker}_draw'])\n",
    "    accuracy_draw.append(accuracy_draw_)\n",
    "    accuracy_away_ = df_france_ligue_1_2006_2024[f'{bookmaker}_away_win'].sum()/len(df_france_ligue_1_2006_2024[f'{bookmaker}_away_win'])\n",
    "    accuracy_away.append(accuracy_away_)\n",
    "\n",
    "    print(f'{bookmaker} accuracy home: {accuracy_home_}')\n",
    "    print(f'{bookmaker} accuracy draw: {accuracy_draw_}')\n",
    "    print(f'{bookmaker} accuracy away: {accuracy_away_}')\n"
   ]
  },
  {
   "cell_type": "code",
   "execution_count": null,
   "metadata": {},
   "outputs": [],
   "source": [
    "fig, ax = plt.subplots(figsize=(10, 6))\n",
    "ax.bar(bookmakers, accuracy_home, label='Home')\n",
    "ax.bar(bookmakers, accuracy_draw, label='Draw', bottom=accuracy_home)\n",
    "ax.bar(bookmakers, accuracy_away, label='Away', bottom=np.array(accuracy_home)+np.array(accuracy_draw))\n",
    "\n",
    "ax.set_ylabel('Accuracy')\n",
    "ax.set_title('Accuracy of bookmakers by outcome')\n",
    "ax.legend()\n",
    "plt.show()"
   ]
  },
  {
   "cell_type": "code",
   "execution_count": null,
   "metadata": {},
   "outputs": [],
   "source": [
    "outcomes = ['H', 'D', 'A']\n",
    "df_france_ligue_1_2006_2024[f'random_bet'] = np.random.choice(outcomes, len(df_france_ligue_1_2006_2024))\n",
    "df_france_ligue_1_2006_2024['random_win'] = df_france_ligue_1_2006_2024.apply(lambda x: 1 if x['random_bet'] == x['FTR'] else 0, axis=1)\n",
    "df_france_ligue_1_2006_2024['random_win'].sum()/len(df_france_ligue_1_2006_2024['random_win'])"
   ]
  },
  {
   "cell_type": "code",
   "execution_count": null,
   "metadata": {},
   "outputs": [],
   "source": [
    "df_france_ligue_1_2006_2024['home_bet'] = 'H'\n",
    "df_france_ligue_1_2006_2024['home_bet'] = df_france_ligue_1_2006_2024.apply(lambda x: 1 if x['home_bet'] == x['FTR'] else 0, axis=1)\n",
    "df_france_ligue_1_2006_2024['home_bet'].sum()/len(df_france_ligue_1_2006_2024['home_bet'])"
   ]
  },
  {
   "cell_type": "code",
   "execution_count": null,
   "metadata": {},
   "outputs": [],
   "source": [
    "df_france_ligue_1_2006_2024['away_bet'] = 'A'\n",
    "df_france_ligue_1_2006_2024['away_bet'] = df_france_ligue_1_2006_2024.apply(lambda x: 1 if x['away_bet'] == x['FTR'] else 0, axis=1)\n",
    "df_france_ligue_1_2006_2024['away_bet'].sum()/len(df_france_ligue_1_2006_2024['away_bet'])"
   ]
  },
  {
   "cell_type": "code",
   "execution_count": null,
   "metadata": {},
   "outputs": [],
   "source": [
    "df_france_ligue_1_2006_2024['draw_bet'] = 'D'\n",
    "df_france_ligue_1_2006_2024['draw_bet'] = df_france_ligue_1_2006_2024.apply(lambda x: 1 if x['draw_bet'] == x['FTR'] else 0, axis=1)\n",
    "df_france_ligue_1_2006_2024['draw_bet'].sum()/len(df_france_ligue_1_2006_2024['draw_bet'])"
   ]
  },
  {
   "cell_type": "code",
   "execution_count": null,
   "metadata": {},
   "outputs": [],
   "source": [
    "len(df_france_ligue_1_2006_2024[df_france_ligue_1_2006_2024['FTR'] == 'H'])/len(df_france_ligue_1_2006_2024)"
   ]
  },
  {
   "cell_type": "code",
   "execution_count": null,
   "metadata": {},
   "outputs": [],
   "source": [
    "print('balanced accuracy')\n",
    "balanced_accuracy_home = []\n",
    "balanced_accuracy_away = []\n",
    "balanced_accuracy_draw = []\n",
    "for bookmaker in bookmakers:\n",
    "    df_france_ligue_1_2006_2024[f'{bookmaker}_home_win'], df_france_ligue_1_2006_2024[f'{bookmaker}_draw'], df_france_ligue_1_2006_2024[f'{bookmaker}_away_win'] = zip(*df_france_ligue_1_2006_2024.apply(calculate_win, axis=1, args=(bookmaker, True)))\n",
    "    accuracy_home_ = df_france_ligue_1_2006_2024[f'{bookmaker}_home_win'].sum()/len(df_france_ligue_1_2006_2024[df_france_ligue_1_2006_2024['FTR'] == 'H'])\n",
    "    balanced_accuracy_home.append(accuracy_home_)\n",
    "    accuracy_draw_ = df_france_ligue_1_2006_2024[f'{bookmaker}_draw'].sum()/len(df_france_ligue_1_2006_2024[df_france_ligue_1_2006_2024['FTR'] == 'D'])\n",
    "    balanced_accuracy_draw.append(accuracy_draw_)\n",
    "    accuracy_away_ = df_france_ligue_1_2006_2024[f'{bookmaker}_away_win'].sum()/len(df_france_ligue_1_2006_2024[df_france_ligue_1_2006_2024['FTR'] == 'A'])\n",
    "    balanced_accuracy_away.append(accuracy_away_)\n",
    "\n",
    "    print(f'{bookmaker} accuracy home: {accuracy_home_}')\n",
    "    print(f'{bookmaker} accuracy draw: {accuracy_draw_}')\n",
    "    print(f'{bookmaker} accuracy away: {accuracy_away_}')"
   ]
  },
  {
   "cell_type": "code",
   "execution_count": null,
   "metadata": {},
   "outputs": [],
   "source": [
    "bookmakers"
   ]
  },
  {
   "cell_type": "code",
   "execution_count": null,
   "metadata": {},
   "outputs": [],
   "source": [
    "fig, ax = plt.subplots(figsize=(10, 6))\n",
    "# Largeur des barres\n",
    "bar_width = 0.3\n",
    "\n",
    "# Positions des barres\n",
    "r1 = np.arange(len(bookmakers))\n",
    "r2 = [x + bar_width for x in r1]\n",
    "r3 = [x + bar_width for x in r2]\n",
    "\n",
    "ax.bar(r1, balanced_accuracy_home, width=bar_width,label='Home')\n",
    "ax.bar(r2, balanced_accuracy_draw, width=bar_width,label='Draw')\n",
    "ax.bar(r3, balanced_accuracy_away, width=bar_width,label='Away')\n",
    "\n",
    "ax.set_xticks([r + bar_width for r in range(len(bookmakers))])\n",
    "ax.set_xticklabels(bookmakers)\n",
    "\n",
    "\n",
    "ax.set_ylabel('Accuracy')\n",
    "ax.set_title('Accuracy of bookmakers by outcome')\n",
    "ax.legend()\n",
    "plt.show()"
   ]
  },
  {
   "cell_type": "code",
   "execution_count": null,
   "metadata": {},
   "outputs": [],
   "source": [
    "df_france_ligue_1_2006_2024.columns"
   ]
  },
  {
   "cell_type": "code",
   "execution_count": null,
   "metadata": {},
   "outputs": [],
   "source": []
  },
  {
   "cell_type": "code",
   "execution_count": null,
   "metadata": {},
   "outputs": [],
   "source": []
  }
 ],
 "metadata": {
  "kernelspec": {
   "display_name": "venv",
   "language": "python",
   "name": "python3"
  },
  "language_info": {
   "codemirror_mode": {
    "name": "ipython",
    "version": 3
   },
   "file_extension": ".py",
   "mimetype": "text/x-python",
   "name": "python",
   "nbconvert_exporter": "python",
   "pygments_lexer": "ipython3",
   "version": "3.10.11"
  }
 },
 "nbformat": 4,
 "nbformat_minor": 2
}
