{
 "cells": [
  {
   "cell_type": "markdown",
   "metadata": {},
   "source": [
    "# Data scraping"
   ]
  },
  {
   "cell_type": "markdown",
   "metadata": {},
   "source": [
    "This notebook aims to scrap data from websites."
   ]
  },
  {
   "cell_type": "code",
   "execution_count": 1,
   "metadata": {},
   "outputs": [],
   "source": [
    "import requests\n",
    "from bs4 import BeautifulSoup\n",
    "import os\n",
    "import re"
   ]
  },
  {
   "cell_type": "markdown",
   "metadata": {},
   "source": [
    "## football-data.co.uk"
   ]
  },
  {
   "cell_type": "code",
   "execution_count": 10,
   "metadata": {},
   "outputs": [],
   "source": [
    "URL = \"https://www.football-data.co.uk\"\n",
    "TARGET_DIR = \"./../../data/soccer/football-data.co.uk/vrac\"\n",
    "URL_MAIN_PAGE = \"data.php\""
   ]
  },
  {
   "cell_type": "code",
   "execution_count": null,
   "metadata": {},
   "outputs": [],
   "source": [
    "def extract_country_links_football_data_co_uk():\n",
    "  \"\"\"\n",
    "  Extracts country names and their corresponding .php files from HTML content.\n",
    "\n",
    "  Returns:\n",
    "      list: A list of str containing the country .php name\n",
    "  \"\"\"\n",
    "  response = requests.get(f\"{URL}/{URL_MAIN_PAGE}\")\n",
    "  html_content = response.content\n",
    "  soup = BeautifulSoup(html_content, 'html.parser')\n",
    "\n",
    "  target_cell = soup.find_all('td', valign='top')[2]\n",
    "\n",
    "  links = target_cell.find_all('a', href=True)\n",
    "\n",
    "  country_links = []\n",
    "  for link in links:\n",
    "    href = link.get('href')\n",
    "    if href and href.endswith('.php'):\n",
    "      type = link.text.strip().split()[-1]\n",
    "      if type == \"Results\":\n",
    "        country_links.append(href)\n",
    "\n",
    "  return country_links\n"
   ]
  },
  {
   "cell_type": "code",
   "execution_count": 11,
   "metadata": {},
   "outputs": [],
   "source": [
    "def download_country_football_data_co_uk(page):\n",
    "  \"\"\"\n",
    "  Download all csv files from a country page on football-data.co.uk\n",
    "  \"\"\"\n",
    "\n",
    "  response = requests.get(f\"{URL}/{page}\")\n",
    "  soup = BeautifulSoup(response.content, 'html.parser')\n",
    "  csv_links = []\n",
    "  for link in soup.find_all('a'):\n",
    "    href = link.get('href')\n",
    "    if href and href.endswith('.csv'):\n",
    "      csv_links.append(f\"{URL}/{href}\")\n",
    "  for link in csv_links:\n",
    "    csv_response = requests.get(link)\n",
    "    file_name = link.split('/')[-2] + '-' + link.split('/')[-1]\n",
    "    with open(os.path.join(TARGET_DIR, file_name), 'wb') as f:\n",
    "      f.write(csv_response.content)"
   ]
  },
  {
   "cell_type": "code",
   "execution_count": 52,
   "metadata": {},
   "outputs": [
    {
     "name": "stdout",
     "output_type": "stream",
     "text": [
      "['englandm.php', 'scotlandm.php', 'germanym.php', 'italym.php', 'spainm.php', 'francem.php', 'netherlandsm.php', 'belgiumm.php', 'portugalm.php', 'turkeym.php', 'greecem.php', 'Argentina.php', 'Austria.php', 'Brazil.php', 'China.php', 'Denmark.php', 'Finland.php', 'Ireland.php', 'Japan.php', 'Mexico.php', 'Norway.php', 'Poland.php', 'Romania.php', 'Russia.php', 'Sweden.php', 'Switzerland.php', 'USA.php']\n"
     ]
    }
   ],
   "source": [
    "pages = extract_country_links_football_data_co_uk()\n",
    "print(pages)"
   ]
  },
  {
   "cell_type": "code",
   "execution_count": 53,
   "metadata": {},
   "outputs": [],
   "source": [
    "for page in pages:\n",
    "  download_country_football_data_co_uk(page)"
   ]
  },
  {
   "cell_type": "code",
   "execution_count": 50,
   "metadata": {},
   "outputs": [],
   "source": []
  },
  {
   "cell_type": "code",
   "execution_count": null,
   "metadata": {},
   "outputs": [],
   "source": []
  }
 ],
 "metadata": {
  "kernelspec": {
   "display_name": "venv",
   "language": "python",
   "name": "python3"
  },
  "language_info": {
   "codemirror_mode": {
    "name": "ipython",
    "version": 3
   },
   "file_extension": ".py",
   "mimetype": "text/x-python",
   "name": "python",
   "nbconvert_exporter": "python",
   "pygments_lexer": "ipython3",
   "version": "3.10.11"
  }
 },
 "nbformat": 4,
 "nbformat_minor": 2
}
