{
 "cells": [
  {
   "cell_type": "code",
   "execution_count": 1,
   "metadata": {},
   "outputs": [],
   "source": [
    "import numpy as np\n",
    "\n",
    "from optim.functions.player_gain_expected_value import player_gain_expected_value\n",
    "from optim.functions.player_gain_variance import player_gain_variance\n",
    "from optim.functions.player_utility_kelly_criteria import player_utility_kelly_criteria\n",
    "from optim.functions.player_utility_linear import player_utility_linear\n",
    "from optim.functions.player_utility_sharp_ratio import player_utility_sharp_ratio\n",
    "\n",
    "from optim.resolve.resolve_fik import resolve_fik\n",
    "\n"
   ]
  },
  {
   "cell_type": "code",
   "execution_count": 2,
   "metadata": {},
   "outputs": [
    {
     "name": "stdout",
     "output_type": "stream",
     "text": [
      "Cotes:\n",
      " [[1.89468098 5.75451331]]\n",
      "Probabilités:\n",
      " [[0.38964374 0.61035626]]\n"
     ]
    },
    {
     "data": {
      "text/plain": [
       "0.701569981767552"
      ]
     },
     "execution_count": 2,
     "metadata": {},
     "output_type": "execute_result"
    }
   ],
   "source": [
    "# Données d'exemple\n",
    "M = 1  # Nombre d'événements\n",
    "N = 2  # Nombre d'issues par événement\n",
    "\n",
    "# Cotes et probabilités estimées pour chaque issue de chaque événement\n",
    "o = np.random.rand(M, N) * 5  + 1 # Cotes aléatoires entre 1 et 5\n",
    "r = np.random.rand(M, N)  # Probabilités aléatoires entre 0 et 1\n",
    "r /= r.sum(axis=1, keepdims=True)  # Normaliser pour que la somme des probabilités pour chaque événement soit 1\n",
    "#o = 1/r\n",
    "print(\"Cotes:\\n\", o)\n",
    "print(\"Probabilités:\\n\", r)\n",
    "\n",
    "np.sum(1/o)\n"
   ]
  },
  {
   "cell_type": "code",
   "execution_count": 3,
   "metadata": {},
   "outputs": [
    {
     "name": "stdout",
     "output_type": "stream",
     "text": [
      "Répartition optimale de la bankroll:\n",
      "[[0.67854032 0.32145968]]\n",
      "0.9999999999999997\n",
      "utility = 0.3936933334718048\n",
      "expected_value = 0.6299966583373005\n",
      "ecart_type = 0.27515606519723673\n"
     ]
    }
   ],
   "source": [
    "result = resolve_fik(o, r, player_utility_kelly_criteria)\n",
    "print(np.sum(result))\n",
    "print(f'utility = {-player_utility_kelly_criteria(result, o, r)}')\n",
    "print(f'expected_value = {player_gain_expected_value(result, o, r)}')\n",
    "#print(f'variance = {player_gain_variance(result, o, r)}')\n",
    "print(f'ecart_type = {np.sqrt(player_gain_variance(result, o, r))}')"
   ]
  },
  {
   "cell_type": "code",
   "execution_count": 4,
   "metadata": {},
   "outputs": [
    {
     "name": "stdout",
     "output_type": "stream",
     "text": [
      "Répartition optimale de la bankroll:\n",
      "[[0.17685648 0.05823023]]\n",
      "0.23508671232676426\n",
      "utility = 0.09499993375588256\n",
      "expected_value = 0.09999992639542853\n",
      "ecart_type = 2.837096566656198e-08\n"
     ]
    }
   ],
   "source": [
    "result = resolve_fik(o, r, lambda f, o, r : player_utility_kelly_criteria(f, o, r, B=10))\n",
    "print(np.sum(result))\n",
    "print(f'utility = {-player_utility_kelly_criteria(result, o, r)}')\n",
    "print(f'expected_value = {player_gain_expected_value(result, o, r)}')\n",
    "#print(f'variance = {player_gain_variance(result, o, r)}')\n",
    "print(f'ecart_type = {np.sqrt(player_gain_variance(result, o, r))}')"
   ]
  },
  {
   "cell_type": "code",
   "execution_count": 5,
   "metadata": {},
   "outputs": [
    {
     "name": "stdout",
     "output_type": "stream",
     "text": [
      "Répartition optimale de la bankroll:\n",
      "[[0.65262453 0.34737547]]\n",
      "0.9999999999999998\n",
      "utility = 0.5636314878257669\n",
      "expected_value = 0.7018884181317389\n",
      "ecart_type = 0.371829168175349\n"
     ]
    }
   ],
   "source": [
    "result = resolve_fik(o, r, player_utility_linear)\n",
    "print(np.sum(result))\n",
    "print(f'utility = {-player_utility_linear(result, o, r)}')\n",
    "print(f'expected_value = {player_gain_expected_value(result, o, r)}')\n",
    "#print(f'variance = {player_gain_variance(result, o, r)}')\n",
    "print(f'ecart_type = {np.sqrt(player_gain_variance(result, o, r))}')"
   ]
  },
  {
   "cell_type": "code",
   "execution_count": 6,
   "metadata": {},
   "outputs": [
    {
     "name": "stdout",
     "output_type": "stream",
     "text": [
      "Répartition optimale de la bankroll:\n",
      "[[1.11022302e-16 1.00000000e+00]]\n",
      "0.9999999999999979\n",
      "utility = 2.5123032334732565\n",
      "expected_value = 2.5123032334732565\n",
      "ecart_type = 2.806300356209206\n"
     ]
    }
   ],
   "source": [
    "result = resolve_fik(o, r, lambda f, o, r: player_utility_linear(f, o, r, l=0))\n",
    "print(np.sum(result))\n",
    "print(f'utility = {-player_utility_linear(result, o, r, l=0)}')\n",
    "print(f'expected_value = {player_gain_expected_value(result, o, r)}')\n",
    "#print(f'variance = {player_gain_variance(result, o, r)}')\n",
    "print(f'ecart_type = {np.sqrt(player_gain_variance(result, o, r))}')"
   ]
  },
  {
   "cell_type": "code",
   "execution_count": 7,
   "metadata": {},
   "outputs": [
    {
     "name": "stdout",
     "output_type": "stream",
     "text": [
      "Répartition optimale de la bankroll:\n",
      "[[0.75220352 0.24779648]]\n",
      "1.0\n",
      "utility = 0.42565106775296335\n",
      "expected_value = 0.42565106775296335\n",
      "ecart_type = 0.00037182875394710456\n"
     ]
    }
   ],
   "source": [
    "result = resolve_fik(o, r, lambda f, o, r: player_utility_linear(f, o, r, l=1, B=1000))\n",
    "print(np.sum(result))\n",
    "print(f'utility = {-player_utility_linear(result, o, r, l=0)}')\n",
    "print(f'expected_value = {player_gain_expected_value(result, o, r)}')\n",
    "#print(f'variance = {player_gain_variance(result, o, r)}')\n",
    "print(f'ecart_type = {np.sqrt(player_gain_variance(result, o, r))}')"
   ]
  },
  {
   "cell_type": "code",
   "execution_count": 8,
   "metadata": {},
   "outputs": [
    {
     "name": "stdout",
     "output_type": "stream",
     "text": [
      "Répartition optimale de la bankroll:\n",
      "[[0.65262453 0.34737547]]\n",
      "0.9999999999999998\n",
      "utility = 0.7018884181317389\n",
      "expected_value = 0.7018884181317389\n",
      "ecart_type = 0.371829168175349\n"
     ]
    }
   ],
   "source": [
    "result = resolve_fik(o, r, lambda f, o, r: player_utility_linear(f, o, r, l=1))\n",
    "print(np.sum(result))\n",
    "print(f'utility = {-player_utility_linear(result, o, r, l=0)}')\n",
    "print(f'expected_value = {player_gain_expected_value(result, o, r)}')\n",
    "#print(f'variance = {player_gain_variance(result, o, r)}')\n",
    "print(f'ecart_type = {np.sqrt(player_gain_variance(result, o, r))}')"
   ]
  },
  {
   "cell_type": "code",
   "execution_count": 9,
   "metadata": {},
   "outputs": [
    {
     "name": "stdout",
     "output_type": "stream",
     "text": [
      "L'optimisation a échoué: Inequality constraints incompatible\n",
      "None\n"
     ]
    },
    {
     "name": "stderr",
     "output_type": "stream",
     "text": [
      "c:\\users\\jdelavande\\projects\\optim-sportbet\\optibet_lib\\optibet_lib\\optim\\functions\\player_utility_sharp_ratio.py:23: RuntimeWarning: invalid value encountered in scalar power\n",
      "  U = E / V**0.5\n"
     ]
    }
   ],
   "source": [
    "result = resolve_fik(o, r, player_utility_sharp_ratio)\n",
    "print(np.sum(result))"
   ]
  },
  {
   "cell_type": "code",
   "execution_count": null,
   "metadata": {},
   "outputs": [],
   "source": []
  },
  {
   "cell_type": "code",
   "execution_count": null,
   "metadata": {},
   "outputs": [],
   "source": []
  }
 ],
 "metadata": {
  "kernelspec": {
   "display_name": "venv",
   "language": "python",
   "name": "python3"
  },
  "language_info": {
   "codemirror_mode": {
    "name": "ipython",
    "version": 3
   },
   "file_extension": ".py",
   "mimetype": "text/x-python",
   "name": "python",
   "nbconvert_exporter": "python",
   "pygments_lexer": "ipython3",
   "version": "3.10.11"
  }
 },
 "nbformat": 4,
 "nbformat_minor": 2
}
