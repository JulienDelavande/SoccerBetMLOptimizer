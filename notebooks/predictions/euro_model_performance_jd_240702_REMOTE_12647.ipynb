{
 "cells": [
  {
   "cell_type": "markdown",
   "metadata": {
    "application/vnd.databricks.v1+cell": {
     "cellMetadata": {},
     "inputWidgets": {},
     "nuid": "3da39ac2-60e4-462d-a598-b09d9a593c8e",
     "showTitle": false,
     "title": ""
    }
   },
   "source": [
    "# Performance of the euro model RSF_PR_LR \n",
    "\n",
    "**(Rank and SoFifa features - Prediction Results - Logistic Regression)**"
   ]
  },
  {
   "cell_type": "code",
   "execution_count": 0,
   "metadata": {
    "application/vnd.databricks.v1+cell": {
     "cellMetadata": {
      "byteLimit": 2048000,
      "rowLimit": 10000
     },
     "inputWidgets": {},
     "nuid": "5aff7b2e-8a7a-4276-ab8a-eaffbb98bd50",
     "showTitle": false,
     "title": ""
    }
   },
   "outputs": [],
   "source": [
    "import os\n",
    "\n",
    "import pandas as pd\n",
    "import numpy as np\n",
    "from dotenv import load_dotenv\n",
    "\n",
    "from psycopg2 import sql, connect\n",
    "from sqlalchemy import create_engine, text\n",
    "\n",
    "import datetime\n"
   ]
  },
  {
   "cell_type": "code",
   "execution_count": 0,
   "metadata": {
    "application/vnd.databricks.v1+cell": {
     "cellMetadata": {
      "byteLimit": 2048000,
      "rowLimit": 10000
     },
     "inputWidgets": {},
     "nuid": "2b887091-3e9f-47c0-9c4c-f860d7351731",
     "showTitle": false,
     "title": ""
    }
   },
   "outputs": [],
   "source": [
    "load_dotenv()\n",
    "DB_USER = os.getenv(\"DB_USER\")\n",
    "DB_PASSWORD = os.getenv('DB_PASSWORD')\n",
    "DB_HOST = os.getenv('DB_HOST')\n",
    "DB_PORT = os.getenv('DB_PORT')\n",
    "DB_NAME = os.getenv('DB_NAME')\n",
    "\n",
    "DB_TN_FBREF_RESULTS = os.getenv('DB_TN_FBREF_RESULTS')\n",
    "DB_TN_SOFIFA_TEAMS_STATS = os.getenv('DB_TN_SOFIFA_TEAMS_STATS')\n",
    "DB_TN_MODELS_RESULTS = os.getenv('DB_TN_MODELS_RESULTS')"
   ]
  },
  {
   "cell_type": "code",
   "execution_count": 0,
   "metadata": {
    "application/vnd.databricks.v1+cell": {
     "cellMetadata": {
      "byteLimit": 2048000,
      "rowLimit": 10000
     },
     "inputWidgets": {},
     "nuid": "ebe43485-e529-4ed2-9d54-5d2bcbd0777c",
     "showTitle": false,
     "title": ""
    }
   },
   "outputs": [],
   "source": [
    "connection_url = f'postgresql+psycopg2://{(DB_USER)}:{DB_PASSWORD}@{DB_HOST}:{DB_PORT}/{DB_NAME}'\n",
    "engine = create_engine(connection_url)\n",
    "\n",
    "with engine.connect() as connection:\n",
    "    query_pr_results_df = text(f\"SELECT * FROM {DB_TN_MODELS_RESULTS} WHERE model = 'RSF_PR_LR'\")\n",
    "    models_pr_results_df = pd.read_sql(query_pr_results_df, connection)\n",
    "    qery_ps_results_df = text(f\"SELECT * FROM {DB_TN_MODELS_RESULTS} WHERE model = 'RSF_PS_LR'\")\n",
    "    models_ps_results_df = pd.read_sql(qery_ps_results_df, connection)\n",
    "    query_euro_matchs = text(f\"SELECT * FROM {DB_TN_FBREF_RESULTS} WHERE league = 'INT-European Championships' AND season = '2425' ORDER BY date ASC\")\n",
    "    schedule_euro_df = pd.read_sql(query_euro_matchs, connection)\n"
   ]
  },
  {
   "cell_type": "code",
   "execution_count": 0,
   "metadata": {
    "application/vnd.databricks.v1+cell": {
     "cellMetadata": {
      "byteLimit": 2048000,
      "rowLimit": 10000
     },
     "inputWidgets": {},
     "nuid": "1448b67d-67ba-47a0-99d1-c7ab374635f7",
     "showTitle": false,
     "title": ""
    }
   },
   "outputs": [],
   "source": [
    "models_ps_results_df\n"
   ]
  },
  {
   "cell_type": "code",
   "execution_count": 0,
   "metadata": {
    "application/vnd.databricks.v1+cell": {
     "cellMetadata": {
      "byteLimit": 2048000,
      "rowLimit": 10000
     },
     "inputWidgets": {},
     "nuid": "b0f696ba-7d89-4475-8b9d-7dcf8f53bc8b",
     "showTitle": false,
     "title": ""
    }
   },
   "outputs": [],
   "source": [
    "models_pr_results_df"
   ]
  },
  {
   "cell_type": "code",
   "execution_count": 0,
   "metadata": {
    "application/vnd.databricks.v1+cell": {
     "cellMetadata": {
      "byteLimit": 2048000,
      "rowLimit": 10000
     },
     "inputWidgets": {},
     "nuid": "89e4c88c-5f29-4204-be04-8d8eb7dbf774",
     "showTitle": false,
     "title": ""
    }
   },
   "outputs": [],
   "source": [
    "schedule_euro_df"
   ]
  },
  {
   "cell_type": "code",
   "execution_count": 0,
   "metadata": {
    "application/vnd.databricks.v1+cell": {
     "cellMetadata": {
      "byteLimit": 2048000,
      "rowLimit": 10000
     },
     "inputWidgets": {},
     "nuid": "b237b179-15bf-4d59-9353-d71929d70ae4",
     "showTitle": false,
     "title": ""
    }
   },
   "outputs": [],
   "source": [
    "# remove if game is dupplicated keep last date_inference\n",
    "models_pr_results_df__keep_last_infered = models_pr_results_df.drop_duplicates(subset=['game'], keep='last')\n",
    "models_ps_results_df__keep_last_infered = models_ps_results_df.drop_duplicates(subset=['game'], keep='last')\n",
    "\n",
    "# merge on game\n",
    "schedule_euro_df__merge__models_pr_results_df__keep_last_infered = pd.merge(schedule_euro_df, models_pr_results_df__keep_last_infered, on='game', how='left')\n",
    "\n",
    "schedule_euro_df__merge__models_pr_results_df__keep_last_infered"
   ]
  },
  {
   "cell_type": "code",
   "execution_count": 0,
   "metadata": {
    "application/vnd.databricks.v1+cell": {
     "cellMetadata": {
      "byteLimit": 2048000,
      "rowLimit": 10000
     },
     "inputWidgets": {},
     "nuid": "1bec9428-ee72-40cd-a145-bd1c689a7ad2",
     "showTitle": false,
     "title": ""
    }
   },
   "outputs": [],
   "source": [
    "schedule_euro_df__merge__models_pr_results_df__keep_last_infered.columns"
   ]
  },
  {
   "cell_type": "code",
   "execution_count": 0,
   "metadata": {
    "application/vnd.databricks.v1+cell": {
     "cellMetadata": {
      "byteLimit": 2048000,
      "rowLimit": 10000
     },
     "inputWidgets": {},
     "nuid": "f962d63a-7b8f-4663-96f8-84bdf93c774d",
     "showTitle": false,
     "title": ""
    }
   },
   "outputs": [],
   "source": [
    "schedule_euro_df__merge__models_pr_results_df__keep_last_infered.loc[:, 'winner'] = schedule_euro_df__merge__models_pr_results_df__keep_last_infered.apply(lambda x: 1 if x['home_g'] > x['away_g'] else -1 if x['home_g'] < x['away_g'] else 0 if x['home_g'] == x['away_g'] else None, axis=1)\n",
    "schedule_euro_df__merge__models_pr_results_df__keep_last_infered.loc[:, 'winner_pred'] = schedule_euro_df__merge__models_pr_results_df__keep_last_infered.apply(lambda x: 1 if x['prob_home_win'] > x['prob_away_win'] and x['prob_home_win'] > x['prob_draw'] else -1 if x['prob_away_win'] > x['prob_home_win'] and x['prob_away_win'] > x['prob_draw'] else 0 if x['prob_draw'] > x['prob_home_win'] and x['prob_draw'] > x['prob_away_win'] else None, axis=1)\n"
   ]
  },
  {
   "cell_type": "code",
   "execution_count": 0,
   "metadata": {
    "application/vnd.databricks.v1+cell": {
     "cellMetadata": {
      "byteLimit": 2048000,
      "rowLimit": 10000
     },
     "inputWidgets": {},
     "nuid": "e188d74f-4c37-47c8-b2b2-184216006e80",
     "showTitle": false,
     "title": ""
    }
   },
   "outputs": [],
   "source": [
    "schedule_euro_df__merge__models_pr_results_df__keep_last_infered[['date', 'home_team_x', 'away_team_x',\n",
    " 'home_g', 'away_g', 'prob_home_win', 'prob_draw', 'prob_away_win', 'winner', 'winner_pred']].tail(15)"
   ]
  },
  {
   "cell_type": "code",
   "execution_count": 0,
   "metadata": {
    "application/vnd.databricks.v1+cell": {
     "cellMetadata": {
      "byteLimit": 2048000,
      "rowLimit": 10000
     },
     "inputWidgets": {},
     "nuid": "ee77edd8-717e-40a6-9aca-a0b43fc14827",
     "showTitle": false,
     "title": ""
    }
   },
   "outputs": [],
   "source": [
    "accuracy_winner = schedule_euro_df__merge__models_pr_results_df__keep_last_infered[\n",
    "    (schedule_euro_df__merge__models_pr_results_df__keep_last_infered['winner'] == schedule_euro_df__merge__models_pr_results_df__keep_last_infered['winner_pred']) &\n",
    "    (schedule_euro_df__merge__models_pr_results_df__keep_last_infered['winner'].isnull() == False)\n",
    "    ].shape[0] / schedule_euro_df__merge__models_pr_results_df__keep_last_infered[\n",
    "        (schedule_euro_df__merge__models_pr_results_df__keep_last_infered['winner'].isnull() == False)].shape[0]\n",
    "print(f\"accuracy_winner = {accuracy_winner}\")"
   ]
  },
  {
   "cell_type": "code",
   "execution_count": 0,
   "metadata": {
    "application/vnd.databricks.v1+cell": {
     "cellMetadata": {
      "byteLimit": 2048000,
      "rowLimit": 10000
     },
     "inputWidgets": {},
     "nuid": "6f1306f3-48b0-45f5-8804-d4a8ade9def5",
     "showTitle": false,
     "title": ""
    }
   },
   "outputs": [],
   "source": [
    "schedule_euro_df__merge__models_pr_results_df__keep_last_infered[\n",
    "    (schedule_euro_df__merge__models_pr_results_df__keep_last_infered['winner'] == schedule_euro_df__merge__models_pr_results_df__keep_last_infered['winner_pred']) &\n",
    "    (schedule_euro_df__merge__models_pr_results_df__keep_last_infered['winner'].isnull() == False)\n",
    "    ].shape[0]"
   ]
  },
  {
   "cell_type": "code",
   "execution_count": 0,
   "metadata": {
    "application/vnd.databricks.v1+cell": {
     "cellMetadata": {
      "byteLimit": 2048000,
      "rowLimit": 10000
     },
     "inputWidgets": {},
     "nuid": "cc399d16-6ff1-4ded-8fc3-04e1ace9886f",
     "showTitle": false,
     "title": ""
    }
   },
   "outputs": [],
   "source": [
    "schedule_euro_df__merge__models_pr_results_df__keep_last_infered[\n",
    "        (schedule_euro_df__merge__models_pr_results_df__keep_last_infered['winner'].isnull() == False)].shape[0]"
   ]
  },
  {
   "cell_type": "code",
   "execution_count": 0,
   "metadata": {
    "application/vnd.databricks.v1+cell": {
     "cellMetadata": {
      "byteLimit": 2048000,
      "rowLimit": 10000
     },
     "inputWidgets": {},
     "nuid": "397bf66c-333e-4fe2-a361-89cd09212563",
     "showTitle": false,
     "title": ""
    }
   },
   "outputs": [],
   "source": [
    "schedule_euro_df__merge__models_pr_results_df__keep_last_infered"
   ]
  },
  {
   "cell_type": "code",
   "execution_count": 0,
   "metadata": {
    "application/vnd.databricks.v1+cell": {
     "cellMetadata": {
      "byteLimit": 2048000,
      "rowLimit": 10000
     },
     "inputWidgets": {},
     "nuid": "2089b752-ffb5-4a67-a4e5-6aa8634ccd12",
     "showTitle": false,
     "title": ""
    }
   },
   "outputs": [],
   "source": [
    "models_ps_results_df__keep_last_infered__col_drop = models_ps_results_df__keep_last_infered[['game', 'prob_home_team_score', 'prob_away_team_score']]\n",
    "schedule_euro_df__merge__models_pr_results_df__keep_last_infered__merge__models_ps_results_df__keep_last_infered__col_drop = pd.merge(schedule_euro_df__merge__models_pr_results_df__keep_last_infered, models_ps_results_df__keep_last_infered__col_drop, on='game', how='left')\n",
    "\n"
   ]
  },
  {
   "cell_type": "code",
   "execution_count": 0,
   "metadata": {
    "application/vnd.databricks.v1+cell": {
     "cellMetadata": {
      "byteLimit": 2048000,
      "rowLimit": 10000
     },
     "inputWidgets": {},
     "nuid": "51bb8572-3391-447a-ab06-caacefd51f66",
     "showTitle": false,
     "title": ""
    }
   },
   "outputs": [],
   "source": [
    "schedule_euro_df__merge__models_pr_results_df__keep_last_infered__merge__models_ps_results_df__keep_last_infered__col_drop.columns"
   ]
  },
  {
   "cell_type": "code",
   "execution_count": 0,
   "metadata": {
    "application/vnd.databricks.v1+cell": {
     "cellMetadata": {
      "byteLimit": 2048000,
      "rowLimit": 10000
     },
     "inputWidgets": {},
     "nuid": "4822397c-d3a2-48e9-b5f7-4e733e3ff818",
     "showTitle": false,
     "title": ""
    }
   },
   "outputs": [],
   "source": [
    "schedule_euro_df__merge__models_pr_results_df__keep_last_infered__merge__models_ps_results_df__keep_last_infered__col_drop[['date', 'home_team_x', 'away_team_x',\n",
    " 'home_g', 'away_g', 'prob_home_team_score_y', 'prob_away_team_score_y', 'prob_home_win', 'prob_draw', 'prob_away_win', 'winner', 'winner_pred']].tail(15)"
   ]
  },
  {
   "cell_type": "code",
   "execution_count": 0,
   "metadata": {
    "application/vnd.databricks.v1+cell": {
     "cellMetadata": {},
     "inputWidgets": {},
     "nuid": "e9ff108b-654c-4c43-b77a-298609935b07",
     "showTitle": false,
     "title": ""
    }
   },
   "outputs": [],
   "source": []
  }
 ],
 "metadata": {
  "application/vnd.databricks.v1+notebook": {
   "dashboards": [],
   "environmentMetadata": null,
   "language": "python",
   "notebookMetadata": {
    "pythonIndentUnit": 4
   },
   "notebookName": "euro_model_performance_jd_240702",
   "widgets": {}
  },
  "kernelspec": {
   "display_name": "venv",
   "language": "python",
   "name": "python3"
  },
  "language_info": {
   "codemirror_mode": {
    "name": "ipython",
    "version": 3
   },
   "file_extension": ".py",
   "mimetype": "text/x-python",
   "name": "python",
   "nbconvert_exporter": "python",
   "pygments_lexer": "ipython3",
   "version": "3.10.11"
  }
 },
 "nbformat": 4,
 "nbformat_minor": 0
}
