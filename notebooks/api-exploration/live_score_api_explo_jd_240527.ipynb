{
 "cells": [
  {
   "cell_type": "code",
   "execution_count": 12,
   "metadata": {},
   "outputs": [],
   "source": [
    "import requests\n",
    "import json\n",
    "\n",
    "API_KEY = 'fPwjkZt9PEPNJ6mL'\n",
    "API_SECRET = '8HOz3WTCv0nGxumMjS5DSzNIdDvXJSIS'\n",
    "BASE_URL = 'http://livescore-api.com/api-client/'\n"
   ]
  },
  {
   "cell_type": "code",
   "execution_count": null,
   "metadata": {},
   "outputs": [],
   "source": []
  },
  {
   "cell_type": "code",
   "execution_count": 14,
   "metadata": {},
   "outputs": [],
   "source": [
    "url = 'https://livescore-api.com/api-client/users/pair.json?&key=fPwjkZt9PEPNJ6mL&secret=8HOz3WTCv0nGxumMjS5DSzNIdDvXJSIS'\n",
    "response = requests.get(url)"
   ]
  },
  {
   "cell_type": "code",
   "execution_count": 16,
   "metadata": {},
   "outputs": [
    {
     "data": {
      "text/plain": [
       "{'success': True,\n",
       " 'data': {'message': 'Your API key and API secret are working correctly'}}"
      ]
     },
     "execution_count": 16,
     "metadata": {},
     "output_type": "execute_result"
    }
   ],
   "source": [
    "response.json()"
   ]
  },
  {
   "cell_type": "code",
   "execution_count": 18,
   "metadata": {},
   "outputs": [
    {
     "data": {
      "text/plain": [
       "{'success': False,\n",
       " 'error': 'This API key and secret do not have access to our data enabled'}"
      ]
     },
     "execution_count": 18,
     "metadata": {},
     "output_type": "execute_result"
    }
   ],
   "source": [
    "url = f'{BASE_URL}scores/history.json?key={API_KEY}\\&secret={API_SECRET}'\n",
    "url = 'http://livescore-api.com/api-client/scores/history.json?key=fPwjkZt9PEPNJ6mL\\&secret=8HOz3WTCv0nGxumMjS5DSzNIdDvXJSIS'\n",
    "response = requests.get(url)\n",
    "response.json()"
   ]
  },
  {
   "cell_type": "code",
   "execution_count": 10,
   "metadata": {},
   "outputs": [
    {
     "ename": "ModuleNotFoundError",
     "evalue": "No module named 'urllib2'",
     "output_type": "error",
     "traceback": [
      "\u001b[1;31m---------------------------------------------------------------------------\u001b[0m",
      "\u001b[1;31mModuleNotFoundError\u001b[0m                       Traceback (most recent call last)",
      "Cell \u001b[1;32mIn[10], line 1\u001b[0m\n\u001b[1;32m----> 1\u001b[0m \u001b[38;5;28;01mimport\u001b[39;00m \u001b[38;5;21;01murllib2\u001b[39;00m\n\u001b[0;32m      2\u001b[0m req \u001b[38;5;241m=\u001b[39m urllib2\u001b[38;5;241m.\u001b[39mRequest(\u001b[38;5;124m'\u001b[39m\u001b[38;5;124mhttp://livescore-api.com/api-client/scores/history.json?key=fPwjkZt9PEPNJ6mL\u001b[39m\u001b[38;5;124m\\\u001b[39m\u001b[38;5;124m&secret=8HOz3WTCv0nGxumMjS5DSzNIdDvXJSIS\u001b[39m\u001b[38;5;124m'\u001b[39m)\n\u001b[0;32m      3\u001b[0m response \u001b[38;5;241m=\u001b[39m urllib2\u001b[38;5;241m.\u001b[39murlopen(req)\n",
      "\u001b[1;31mModuleNotFoundError\u001b[0m: No module named 'urllib2'"
     ]
    }
   ],
   "source": [
    "import urllib2\n",
    "req = urllib2.Request('http://livescore-api.com/api-client/scores/history.json?key=fPwjkZt9PEPNJ6mL\\&secret=8HOz3WTCv0nGxumMjS5DSzNIdDvXJSIS')\n",
    "response = urllib2.urlopen(req)\n",
    "print(response.read())"
   ]
  },
  {
   "cell_type": "code",
   "execution_count": 2,
   "metadata": {},
   "outputs": [],
   "source": [
    "# Fonction pour obtenir l'historique des matchs\n",
    "def get_match_history():\n",
    "    url = f'{BASE_URL}scores/history.json?key={API_KEY}&secret={API_SECRET}'\n",
    "    response = requests.get(url)\n",
    "    if response.status_code == 200:\n",
    "        return response.json()\n",
    "    else:\n",
    "        print('Erreur lors de la récupération des données:', response.status_code)\n",
    "        return None\n",
    "\n",
    "# Fonction pour obtenir les cotes des bookmakers pour un match spécifique\n",
    "def get_odds(match_id):\n",
    "    url = f'{BASE_URL}odds/match.json?key={API_KEY}&secret={API_SECRET}&id={match_id}'\n",
    "    response = requests.get(url)\n",
    "    if response.status_code == 200:\n",
    "        return response.json()\n",
    "    else:\n",
    "        print('Erreur lors de la récupération des cotes:', response.status_code)\n",
    "        return None"
   ]
  },
  {
   "cell_type": "code",
   "execution_count": 3,
   "metadata": {},
   "outputs": [
    {
     "name": "stdout",
     "output_type": "stream",
     "text": [
      "Erreur lors de la récupération des données: 401\n"
     ]
    }
   ],
   "source": [
    "match_history = get_match_history()\n",
    "match_history"
   ]
  },
  {
   "cell_type": "code",
   "execution_count": null,
   "metadata": {},
   "outputs": [],
   "source": [
    "\n",
    "\n",
    "# Récupération de l'historique des matchs\n",
    "\n",
    "if match_history:\n",
    "    matches = match_history.get('data', {}).get('match', [])\n",
    "    for match in matches:\n",
    "        match_id = match.get('id')\n",
    "        home_team = match.get('home_name')\n",
    "        away_team = match.get('away_name')\n",
    "        score = match.get('score')\n",
    "        date = match.get('date')\n",
    "\n",
    "        print(f'Match: {home_team} vs {away_team}')\n",
    "        print(f'Score: {score}')\n",
    "        print(f'Date: {date}')\n",
    "\n",
    "        # Récupération des cotes des bookmakers\n",
    "        odds = get_odds(match_id)\n",
    "        if odds:\n",
    "            bookmakers = odds.get('data', {}).get('odds', [])\n",
    "            for bookmaker in bookmakers:\n",
    "                name = bookmaker.get('bookmaker')\n",
    "                home_odds = bookmaker.get('home_odds')\n",
    "                draw_odds = bookmaker.get('draw_odds')\n",
    "                away_odds = bookmaker.get('away_odds')\n",
    "\n",
    "                print(f'Bookmaker: {name}')\n",
    "                print(f'Cotes: {home_team} {home_odds}, Draw {draw_odds}, {away_team} {away_odds}')\n",
    "        print('---')"
   ]
  }
 ],
 "metadata": {
  "kernelspec": {
   "display_name": "venv",
   "language": "python",
   "name": "python3"
  },
  "language_info": {
   "codemirror_mode": {
    "name": "ipython",
    "version": 3
   },
   "file_extension": ".py",
   "mimetype": "text/x-python",
   "name": "python",
   "nbconvert_exporter": "python",
   "pygments_lexer": "ipython3",
   "version": "3.10.11"
  }
 },
 "nbformat": 4,
 "nbformat_minor": 2
}
